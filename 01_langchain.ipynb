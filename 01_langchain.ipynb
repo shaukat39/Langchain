{
 "cells": [
  {
   "cell_type": "markdown",
   "id": "dedcdee7",
   "metadata": {},
   "source": [
    "### Langchain practice"
   ]
  },
  {
   "cell_type": "code",
   "execution_count": null,
   "id": "db049208",
   "metadata": {},
   "outputs": [],
   "source": [
    "!pip install langchain\n",
    "\n",
    "!pip install openai\n",
    "\n",
    "!pip install huggingface_hub"
   ]
  },
  {
   "cell_type": "code",
   "execution_count": null,
   "id": "abaead48",
   "metadata": {},
   "outputs": [],
   "source": [
    "!pip install langchain-community"
   ]
  },
  {
   "cell_type": "code",
   "execution_count": null,
   "id": "568054ec",
   "metadata": {},
   "outputs": [],
   "source": [
    "from langchain.llms import OpenAI\n",
    "import os\n",
    "os.environ['OPENAI_API_KEY'] = 'your_actual_api_key'\n",
    "openai_llm = OpenAI(temperature=0.5) # model_name = 'text-davinci-003'\n",
    "text = \"What is the capital of Pakistan?\"\n",
    "print(openai_llm(text))"
   ]
  },
  {
   "cell_type": "markdown",
   "id": "a5bac97b",
   "metadata": {},
   "source": [
    "### Huggingface"
   ]
  },
  {
   "cell_type": "code",
   "execution_count": null,
   "id": "ad4dda2f",
   "metadata": {},
   "outputs": [],
   "source": [
    "from langchain import HuggingFaceHub\n",
    "import os\n",
    "os.environ['HUGGINGFACEHUB_API_TOKEN'] = 'your_actual_api_token'\n",
    "llm = HuggingFaceHub(repo_id=\"t5-base\", model_kwargs={\"temperature\":0.9, \"max_length\":64})\n",
    "llm(\"translate English to German: How young are you?\")"
   ]
  }
 ],
 "metadata": {
  "kernelspec": {
   "display_name": "tf_ml",
   "language": "python",
   "name": "python3"
  },
  "language_info": {
   "codemirror_mode": {
    "name": "ipython",
    "version": 3
   },
   "file_extension": ".py",
   "mimetype": "text/x-python",
   "name": "python",
   "nbconvert_exporter": "python",
   "pygments_lexer": "ipython3",
   "version": "3.10.16"
  }
 },
 "nbformat": 4,
 "nbformat_minor": 5
}
